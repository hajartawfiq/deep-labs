{
  "nbformat": 4,
  "nbformat_minor": 0,
  "metadata": {
    "colab": {
      "provenance": [],
      "authorship_tag": "ABX9TyMboaVJ8nUg9XZnHiobRW7A",
      "include_colab_link": true
    },
    "kernelspec": {
      "name": "python3",
      "display_name": "Python 3"
    },
    "language_info": {
      "name": "python"
    }
  },
  "cells": [
    {
      "cell_type": "markdown",
      "metadata": {
        "id": "view-in-github",
        "colab_type": "text"
      },
      "source": [
        "<a href=\"https://colab.research.google.com/github/hajartawfiq/deep-labs/blob/main/deeplab1.ipynb\" target=\"_parent\"><img src=\"https://colab.research.google.com/assets/colab-badge.svg\" alt=\"Open In Colab\"/></a>"
      ]
    },
    {
      "cell_type": "code",
      "execution_count": 1,
      "metadata": {
        "id": "mRutfJNyPdMv"
      },
      "outputs": [],
      "source": [
        "import numpy as np\n",
        "import tensorflow as tf\n",
        "import matplotlib.pyplot as plt\n",
        "import itertools as it"
      ]
    },
    {
      "cell_type": "code",
      "source": [
        "def sigmoid(x):\n",
        "    \"\"\"Sigmoid function\"\"\"\n",
        "    return 1.0 / (1.0 + np.exp(-x))"
      ],
      "metadata": {
        "id": "JurAKgIuPzl9"
      },
      "execution_count": 2,
      "outputs": []
    },
    {
      "cell_type": "code",
      "source": [
        "# Plot The sigmoid function\n",
        "xs = np.linspace(-10, 10, num=100, dtype=np.float32)\n",
        "activation = sigmoid(xs)\n",
        "\n",
        "fig = plt.figure(figsize=(6,4))\n",
        "plt.plot(xs, activation)\n",
        "plt.plot(0,.5,'ro')\n",
        "\n",
        "plt.grid(True, which='both')\n",
        "plt.axhline(y=0, color='y')\n",
        "plt.axvline(x=0, color='y')\n",
        "plt.ylim([-0.1, 1.15])"
      ],
      "metadata": {
        "colab": {
          "base_uri": "https://localhost:8080/",
          "height": 385
        },
        "id": "zkET2HbNQL2Z",
        "outputId": "3add1b55-45f0-4b3a-e5e3-4750d2702279"
      },
      "execution_count": 3,
      "outputs": [
        {
          "output_type": "execute_result",
          "data": {
            "text/plain": [
              "(-0.1, 1.15)"
            ]
          },
          "metadata": {},
          "execution_count": 3
        },
        {
          "output_type": "display_data",
          "data": {
            "text/plain": [
              "<Figure size 600x400 with 1 Axes>"
            ],
            "image/png": "[encoded data removed]"
          },
          "metadata": {}
        }
      ]
    },
    {
      "cell_type": "code",
      "source": [
        "# Logic gate function\n",
        "def logic_gate(w1, w2, b, x1, x2):\n",
        "  ''' logic_gate is a function which returns the results of\n",
        "        taking two args and  (hopefully) acts like a logic gate (and/or/not/etc.).\n",
        "        its behavior is determined by w1,w2,b. '''\n",
        "  return sigmoid(w1 * x1 + w2 * x2 + b)"
      ],
      "metadata": {
        "id": "hrL9gnskQONy"
      },
      "execution_count": 4,
      "outputs": []
    },
    {
      "cell_type": "code",
      "source": [
        "# Test function that takes a function with two arguments\n",
        "def test_gate(w1, w2, b):\n",
        "  for x1 in range(2):\n",
        "    for x2 in range(2):\n",
        "      print(\"{}, {}: {}\".format(x1, x2, np.round(logic_gate(w1, w2, b, x1, x2))))"
      ],
      "metadata": {
        "id": "jeyRENW_QUBT"
      },
      "execution_count": 5,
      "outputs": []
    },
    {
      "cell_type": "code",
      "source": [
        "OR_gate = test_gate(20, 20, -10)\n"
      ],
      "metadata": {
        "colab": {
          "base_uri": "https://localhost:8080/"
        },
        "id": "iN-eankAQYuz",
        "outputId": "c740e0d5-5d12-47e0-8066-0892cb8b3271"
      },
      "execution_count": 10,
      "outputs": [
        {
          "output_type": "stream",
          "name": "stdout",
          "text": [
            "0, 0: 0.0\n",
            "0, 1: 1.0\n",
            "1, 0: 1.0\n",
            "1, 1: 1.0\n"
          ]
        }
      ]
    },
    {
      "cell_type": "code",
      "source": [
        "def logic_gate(w1, w2, b, x1, x2):\n",
        "  return sigmoid(w1 * x1 + w2 * x2 + b)"
      ],
      "metadata": {
        "id": "hzLzkfP2QbYH"
      },
      "execution_count": 7,
      "outputs": []
    },
    {
      "cell_type": "code",
      "source": [
        "def test_gate(w1, w2, b):\n",
        "  for x1 in range(2):\n",
        "    for x2 in range(2):\n",
        "      print(\"{}, {}: {}\".format(x1, x2, np.round(logic_gate(w1, w2, b, x1, x2))))"
      ],
      "metadata": {
        "id": "qOeMQQPMRCzW"
      },
      "execution_count": 8,
      "outputs": []
    },
    {
      "cell_type": "code",
      "source": [
        "AND_gate = test_gate(20, 20, -30)"
      ],
      "metadata": {
        "colab": {
          "base_uri": "https://localhost:8080/"
        },
        "id": "oGLdiOVXRIIO",
        "outputId": "9c39089b-4ff0-422d-880b-57d6f7960d60"
      },
      "execution_count": 11,
      "outputs": [
        {
          "output_type": "stream",
          "name": "stdout",
          "text": [
            "0, 0: 0.0\n",
            "0, 1: 0.0\n",
            "1, 0: 0.0\n",
            "1, 1: 1.0\n"
          ]
        }
      ]
    },
    {
      "cell_type": "code",
      "source": [
        "NOR_gate = test_gate(-20, -20, 10)"
      ],
      "metadata": {
        "colab": {
          "base_uri": "https://localhost:8080/"
        },
        "id": "2FJSX-EsSYsY",
        "outputId": "683d20a8-6027-449b-91ad-031b0cd2ca2b"
      },
      "execution_count": 13,
      "outputs": [
        {
          "output_type": "stream",
          "name": "stdout",
          "text": [
            "0, 0: 1.0\n",
            "0, 1: 0.0\n",
            "1, 0: 0.0\n",
            "1, 1: 0.0\n"
          ]
        }
      ]
    },
    {
      "cell_type": "code",
      "source": [
        "NAND_gate = test_gate(-20, -20, 30)"
      ],
      "metadata": {
        "colab": {
          "base_uri": "https://localhost:8080/"
        },
        "id": "ZLUnK5FZUkB0",
        "outputId": "95196a7d-37c6-462f-a77a-ba2d479b6f0e"
      },
      "execution_count": 14,
      "outputs": [
        {
          "output_type": "stream",
          "name": "stdout",
          "text": [
            "0, 0: 1.0\n",
            "0, 1: 1.0\n",
            "1, 0: 1.0\n",
            "1, 1: 0.0\n"
          ]
        }
      ]
    },
    {
      "cell_type": "code",
      "source": [
        "def XOR(x1, x2):\n",
        "    # XOR = AND (OR ,NAND)\n",
        "    NAND_out = logic_gate(-20, -20, 30, x1, x2)\n",
        "    OR_out = logic_gate(20, 20, -10, x1, x2)\n",
        "    XOR_out = logic_gate(20, 20, -30, np.round(NAND_out), np.round(OR_out))\n",
        "\n",
        "    return np.round(XOR_out)"
      ],
      "metadata": {
        "id": "Ic7FrOOYV7Xe"
      },
      "execution_count": 30,
      "outputs": []
    },
    {
      "cell_type": "code",
      "source": [
        "def test_XOR():\n",
        "    for x1 in range(2):\n",
        "        for x2 in range(2):\n",
        "            print(\"{}, {}: {}\".format(x1, x2, XOR(x1, x2)))\n",
        "\n",
        "test_XOR()"
      ],
      "metadata": {
        "colab": {
          "base_uri": "https://localhost:8080/"
        },
        "id": "HjkcXJLpZPac",
        "outputId": "1bad3302-8d94-4cc6-e316-3a1039d7bfb0"
      },
      "execution_count": 29,
      "outputs": [
        {
          "output_type": "stream",
          "name": "stdout",
          "text": [
            "0, 0: 0.0\n",
            "0, 1: 1.0\n",
            "1, 0: 1.0\n",
            "1, 1: 0.0\n"
          ]
        }
      ]
    }
  ]
}